{
 "cells": [
  {
   "cell_type": "markdown",
   "id": "e2c9265b",
   "metadata": {},
   "source": [
    "<h1> Exercise 5</h1>\n",
    "<p>Onur BOZKURTOĞLU</p>\n",
    "<p>20170808044</p>\n",
    "<h2>9    Numpy</h2>\n",
    "<h3>Exercise 9.5: Singular values</h3>\n",
    "<p><b> Generate an n × n matrix, denoted by C, where each entry is 1 with probability p and 0 otherwise. Use\n",
    "the linear algebra library of Scipy to compute the singular values of C. What can you say about the\n",
    "relationship between n, p and the largest singular value? </b></p>"
   ]
  },
  {
   "cell_type": "code",
   "execution_count": 97,
   "id": "55f626c7",
   "metadata": {},
   "outputs": [
    {
     "name": "stdout",
     "output_type": "stream",
     "text": [
      "[[0. 1. 1. ... 0. 0. 0.]\n",
      " [0. 1. 0. ... 0. 1. 0.]\n",
      " [1. 0. 1. ... 0. 0. 0.]\n",
      " ...\n",
      " [1. 0. 1. ... 1. 1. 1.]\n",
      " [0. 1. 0. ... 0. 0. 1.]\n",
      " [1. 0. 1. ... 0. 0. 1.]]\n"
     ]
    }
   ],
   "source": [
    "import numpy as np\n",
    "from random import choices\n",
    "\n",
    "size = (200,200)\n",
    "C = np.zeros(size)\n",
    "probability = 0.4\n",
    "\n",
    "for i in range(200):  \n",
    "    for j in range(200):\n",
    "        C[i][j] = np.random.choice(np.arange(2), p = [1 - probability, probability])\n",
    "print(C)"
   ]
  },
  {
   "cell_type": "markdown",
   "id": "e7d337fe",
   "metadata": {},
   "source": [
    "<h2>10    Scipy</h2>\n",
    "<h3>Exercise 10.1: Least squares</h3>\n",
    "<p><b> Generate matrix A elements of R^m×n with m > n. Also generate some vector b elements of R^m. </b></p>\n",
    "<p><b> Now find x = arg minx ||Ax − b||2. </b></p>\n",
    "<p><b> Print the norm of the residual. </b></p>"
   ]
  },
  {
   "cell_type": "code",
   "execution_count": 91,
   "id": "7da2531f",
   "metadata": {},
   "outputs": [],
   "source": [
    "from scipy.optimize import nnls\n",
    "from numpy import random"
   ]
  },
  {
   "cell_type": "code",
   "execution_count": 103,
   "id": "c1581e12",
   "metadata": {},
   "outputs": [],
   "source": [
    "def least_squares(m, n):\n",
    "    size = (m,n)\n",
    "    b = np.zeros(m)\n",
    "    for i in range(m):\n",
    "        b[i] = np.random.randint(100)\n",
    "    A = np.zeros(size)\n",
    "    for i in range(m):\n",
    "        for j in range(n):\n",
    "            A[i][j] = np.random.randint(100)\n",
    "    x = nnls(A, b)\n",
    "    return x[1]"
   ]
  },
  {
   "cell_type": "code",
   "execution_count": 104,
   "id": "9f9b4d21",
   "metadata": {},
   "outputs": [
    {
     "data": {
      "text/plain": [
       "83.86543202425288"
      ]
     },
     "execution_count": 104,
     "metadata": {},
     "output_type": "execute_result"
    }
   ],
   "source": [
    "least_squares(10,4)"
   ]
  },
  {
   "cell_type": "code",
   "execution_count": null,
   "id": "c0a9f1c2",
   "metadata": {},
   "outputs": [],
   "source": []
  }
 ],
 "metadata": {
  "kernelspec": {
   "display_name": "Python 3 (ipykernel)",
   "language": "python",
   "name": "python3"
  },
  "language_info": {
   "codemirror_mode": {
    "name": "ipython",
    "version": 3
   },
   "file_extension": ".py",
   "mimetype": "text/x-python",
   "name": "python",
   "nbconvert_exporter": "python",
   "pygments_lexer": "ipython3",
   "version": "3.9.7"
  }
 },
 "nbformat": 4,
 "nbformat_minor": 5
}
