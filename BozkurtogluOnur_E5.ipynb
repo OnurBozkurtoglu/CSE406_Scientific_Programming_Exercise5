{
 "cells": [
  {
   "cell_type": "markdown",
   "id": "e2c9265b",
   "metadata": {},
   "source": [
    "<h1> Exercise 5</h1>\n",
    "<p>Onur BOZKURTOĞLU</p>\n",
    "<p>20170808044</p>\n",
    "<h2>9    Numpy</h2>\n",
    "<h3>Exercise 9.5: Singular values</h3>\n",
    "<p><b> Generate an n × n matrix, denoted by C, where each entry is 1 with probability p and 0 otherwise. Use\n",
    "the linear algebra library of Scipy to compute the singular values of C. What can you say about the\n",
    "relationship between n, p and the largest singular value? </b></p>"
   ]
  },
  {
   "cell_type": "code",
   "execution_count": 121,
   "id": "a344eaf5",
   "metadata": {},
   "outputs": [],
   "source": [
    "import numpy as np\n",
    "from random import choices\n",
    "\n",
    "def singular_values():\n",
    "    size = (200,200)\n",
    "    C = np.zeros(size)\n",
    "    probability = 0.4\n",
    "\n",
    "    for i in range(200):  \n",
    "        for j in range(200):\n",
    "            C[i][j] = np.random.choice(np.arange(2), p = [1 - probability, probability])\n",
    "    return C"
   ]
  },
  {
   "cell_type": "code",
   "execution_count": 122,
   "id": "8ba49530",
   "metadata": {},
   "outputs": [
    {
     "data": {
      "text/plain": [
       "array([[0., 0., 0., ..., 1., 0., 0.],\n",
       "       [1., 1., 0., ..., 0., 0., 0.],\n",
       "       [1., 0., 0., ..., 0., 1., 0.],\n",
       "       ...,\n",
       "       [0., 1., 0., ..., 1., 1., 0.],\n",
       "       [0., 0., 0., ..., 0., 0., 0.],\n",
       "       [0., 1., 0., ..., 1., 0., 0.]])"
      ]
     },
     "execution_count": 122,
     "metadata": {},
     "output_type": "execute_result"
    }
   ],
   "source": [
    "singular_values()"
   ]
  },
  {
   "cell_type": "markdown",
   "id": "31975542",
   "metadata": {},
   "source": [
    "<h2>10    Scipy</h2>\n",
    "<h3>Exercise 10.1: Least squares</h3>\n",
    "<p><b> Generate matrix A elements of R^m×n with m > n. Also generate some vector b elements of R^m. </b></p>\n",
    "<p><b> Now find x = arg minx ||Ax − b||2. </b></p>\n",
    "<p><b> Print the norm of the residual. </b></p>"
   ]
  },
  {
   "cell_type": "code",
   "execution_count": 110,
   "id": "fdbb41fb",
   "metadata": {},
   "outputs": [],
   "source": [
    "from scipy.optimize import nnls\n",
    "from numpy import random"
   ]
  },
  {
   "cell_type": "code",
   "execution_count": 111,
   "id": "8d5a5350",
   "metadata": {},
   "outputs": [],
   "source": [
    "def least_squares(m, n):\n",
    "    size = (m,n)\n",
    "    b = np.zeros(m)\n",
    "    for i in range(m):\n",
    "        b[i] = np.random.randint(100)\n",
    "    A = np.zeros(size)\n",
    "    for i in range(m):\n",
    "        for j in range(n):\n",
    "            A[i][j] = np.random.randint(100)\n",
    "    x = nnls(A, b)\n",
    "    return x[1]"
   ]
  },
  {
   "cell_type": "code",
   "execution_count": 113,
   "id": "33d4369e",
   "metadata": {},
   "outputs": [
    {
     "data": {
      "text/plain": [
       "67.22422971195505"
      ]
     },
     "execution_count": 113,
     "metadata": {},
     "output_type": "execute_result"
    }
   ],
   "source": [
    "least_squares(10,4)"
   ]
  },
  {
   "cell_type": "markdown",
   "id": "acf1373b",
   "metadata": {},
   "source": [
    "<h3>Exercise 10.2: Optimization</h3>\n",
    "<p><b> Find the maximum of the function </b></p>\n",
    "<p><b> f(x) = sin^2 (x − 2)e^(−x^2) </b></p>\n"
   ]
  },
  {
   "cell_type": "code",
   "execution_count": 114,
   "id": "d7858fef",
   "metadata": {},
   "outputs": [],
   "source": [
    "from scipy import optimize\n",
    "import math"
   ]
  },
  {
   "cell_type": "code",
   "execution_count": 115,
   "id": "8158b6a4",
   "metadata": {},
   "outputs": [],
   "source": [
    "def f(x):\n",
    "    return (np.sin(x - 2) ** 2) * ((math.e) ** (-(x ** 2)))"
   ]
  },
  {
   "cell_type": "code",
   "execution_count": 116,
   "id": "40b19234",
   "metadata": {},
   "outputs": [
    {
     "name": "stdout",
     "output_type": "stream",
     "text": [
      "Optimization terminated successfully.\n",
      "         Current function value: -0.911685\n",
      "         Iterations: 20\n",
      "         Function evaluations: 40\n",
      "[0.21625]\n",
      "[0.91168541]\n"
     ]
    }
   ],
   "source": [
    "max_value = scipy.optimize.fmin(lambda x: -f(x), 0)\n",
    "print(max_value) # x axis\n",
    "print(f(max_value)) # y axis"
   ]
  },
  {
   "cell_type": "markdown",
   "id": "9227c6b4",
   "metadata": {},
   "source": [
    "<h3>Exercise 10.3: Pairwise distances</h3>\n",
    "<p><b> Let X be a matrix with n rows and m columns. How can you compute the pairwise distances between\n",
    "every two rows? </b></p>\n",
    "<p><b> As an example application, consider n cities, and we are given their coordinates in two columns. Now\n",
    "we want a nice table that tells us for each two cities, how far they are apart. </b></p>\n",
    "<p><b> Again, make sure you make use of Scipy’s functionality instead of writing your own routine </b></p>"
   ]
  },
  {
   "cell_type": "code",
   "execution_count": 141,
   "id": "98211fcb",
   "metadata": {},
   "outputs": [],
   "source": [
    "def pairwise_distances(n, m):\n",
    "    size = (n,m)\n",
    "    X = np.zeros(size)\n",
    "    for i in range(n):\n",
    "        for j in range(m):\n",
    "            X[i][j] = np.random.randint(100)\n",
    "    result = scipy.spatial.distance.pdist(X)\n",
    "    return result"
   ]
  },
  {
   "cell_type": "code",
   "execution_count": 144,
   "id": "1d2d0446",
   "metadata": {},
   "outputs": [
    {
     "data": {
      "text/plain": [
       "array([ 36.87817783,  69.07242576,  63.16644679,  73.76991257,\n",
       "        71.92357055,  70.45565982, 107.54068997,  66.38523932,\n",
       "       118.97898974, 101.42484903,  90.75241044, 103.84603989,\n",
       "       103.29085148,  76.2758153 , 130.73255142,  83.13242448,\n",
       "       112.87160848,  54.67174773,  41.31585652,  28.94822965,\n",
       "        90.14987521,  64.80740698,  82.10968274, 121.71688461,\n",
       "        65.0999232 ,  31.28897569,  83.94045509,  63.55312738,\n",
       "        48.95916666, 118.43141475,  46.67976007,  99.76973489,\n",
       "        71.15476091, 105.07616285, 132.20438722,  86.95401083,\n",
       "        47.95831523,  69.29646456, 118.37651794,  97.87236586,\n",
       "        78.21125239,  93.65895579,  97.52948272, 102.33767635,\n",
       "       117.97881166])"
      ]
     },
     "execution_count": 144,
     "metadata": {},
     "output_type": "execute_result"
    }
   ],
   "source": [
    "pairwise_distances(10, 5)"
   ]
  },
  {
   "cell_type": "code",
   "execution_count": null,
   "id": "7086ae91",
   "metadata": {},
   "outputs": [],
   "source": []
  }
 ],
 "metadata": {
  "kernelspec": {
   "display_name": "Python 3 (ipykernel)",
   "language": "python",
   "name": "python3"
  },
  "language_info": {
   "codemirror_mode": {
    "name": "ipython",
    "version": 3
   },
   "file_extension": ".py",
   "mimetype": "text/x-python",
   "name": "python",
   "nbconvert_exporter": "python",
   "pygments_lexer": "ipython3",
   "version": "3.9.7"
  }
 },
 "nbformat": 4,
 "nbformat_minor": 5
}
