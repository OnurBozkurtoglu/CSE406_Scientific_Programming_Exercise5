{
 "cells": [
  {
   "cell_type": "markdown",
   "id": "e2c9265b",
   "metadata": {},
   "source": [
    "<h1> Exercise 5</h1>\n",
    "<p>Onur Bozkurtoğlu</p>\n",
    "<p>20170808044</p>\n",
    "<h2>9    Numpy</h2>\n",
    "<h4> Generate matrices A, with random Gaussian entries, B, a Toeplitz matrix, where A elements of Rn×m and B elements of Rm×m, for n = 200, m = 500. </h4>"
   ]
  },
  {
   "cell_type": "code",
   "execution_count": null,
   "id": "55f626c7",
   "metadata": {},
   "outputs": [],
   "source": []
  }
 ],
 "metadata": {
  "kernelspec": {
   "display_name": "Python 3 (ipykernel)",
   "language": "python",
   "name": "python3"
  },
  "language_info": {
   "codemirror_mode": {
    "name": "ipython",
    "version": 3
   },
   "file_extension": ".py",
   "mimetype": "text/x-python",
   "name": "python",
   "nbconvert_exporter": "python",
   "pygments_lexer": "ipython3",
   "version": "3.9.7"
  }
 },
 "nbformat": 4,
 "nbformat_minor": 5
}
