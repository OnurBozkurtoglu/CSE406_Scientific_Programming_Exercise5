{
 "cells": [
  {
   "cell_type": "markdown",
   "id": "e2c9265b",
   "metadata": {},
   "source": [
    "<h1> Exercise 5</h1>\n",
    "<p>Onur BOZKURTOĞLU</p>\n",
    "<p>20170808044</p>\n",
    "<h2>9    Numpy</h2>\n",
    "<h3>Exercise 9.5: Singular values</h3>\n",
    "<p><b> Generate an n × n matrix, denoted by C, where each entry is 1 with probability p and 0 otherwise. Use\n",
    "the linear algebra library of Scipy to compute the singular values of C. What can you say about the\n",
    "relationship between n, p and the largest singular value? </b></p>"
   ]
  },
  {
   "cell_type": "code",
   "execution_count": 1,
   "id": "a344eaf5",
   "metadata": {},
   "outputs": [],
   "source": [
    "import numpy as np\n",
    "from random import choices\n",
    "\n",
    "def singular_values():\n",
    "    size = (200,200)\n",
    "    C = np.zeros(size)\n",
    "    probability = 0.4\n",
    "\n",
    "    for i in range(200):  \n",
    "        for j in range(200):\n",
    "            C[i][j] = np.random.choice(np.arange(2), p = [1 - probability, probability])\n",
    "    return C"
   ]
  },
  {
   "cell_type": "code",
   "execution_count": 2,
   "id": "8ba49530",
   "metadata": {},
   "outputs": [
    {
     "data": {
      "text/plain": [
       "array([[0., 0., 0., ..., 1., 0., 1.],\n",
       "       [0., 0., 1., ..., 0., 0., 0.],\n",
       "       [1., 1., 0., ..., 1., 1., 0.],\n",
       "       ...,\n",
       "       [0., 1., 0., ..., 1., 0., 0.],\n",
       "       [1., 0., 1., ..., 0., 1., 0.],\n",
       "       [0., 0., 0., ..., 1., 0., 1.]])"
      ]
     },
     "execution_count": 2,
     "metadata": {},
     "output_type": "execute_result"
    }
   ],
   "source": [
    "singular_values()"
   ]
  },
  {
   "cell_type": "markdown",
   "id": "31975542",
   "metadata": {},
   "source": [
    "<h2>10    Scipy</h2>\n",
    "<h3>Exercise 10.1: Least squares</h3>\n",
    "<p><b> Generate matrix A elements of R^m×n with m > n. Also generate some vector b elements of R^m. </b></p>\n",
    "<p><b> Now find x = arg minx ||Ax − b||2. </b></p>\n",
    "<p><b> Print the norm of the residual. </b></p>"
   ]
  },
  {
   "cell_type": "code",
   "execution_count": 3,
   "id": "fdbb41fb",
   "metadata": {},
   "outputs": [],
   "source": [
    "from scipy.optimize import nnls\n",
    "from numpy import random"
   ]
  },
  {
   "cell_type": "code",
   "execution_count": 4,
   "id": "8d5a5350",
   "metadata": {},
   "outputs": [],
   "source": [
    "def least_squares(m, n):\n",
    "    size = (m,n)\n",
    "    b = np.zeros(m)\n",
    "    for i in range(m):\n",
    "        b[i] = np.random.randint(100)\n",
    "    A = np.zeros(size)\n",
    "    for i in range(m):\n",
    "        for j in range(n):\n",
    "            A[i][j] = np.random.randint(100)\n",
    "    x = nnls(A, b)\n",
    "    return x[1]"
   ]
  },
  {
   "cell_type": "code",
   "execution_count": 5,
   "id": "33d4369e",
   "metadata": {},
   "outputs": [
    {
     "data": {
      "text/plain": [
       "50.44940859760731"
      ]
     },
     "execution_count": 5,
     "metadata": {},
     "output_type": "execute_result"
    }
   ],
   "source": [
    "least_squares(10,4)"
   ]
  },
  {
   "cell_type": "markdown",
   "id": "acf1373b",
   "metadata": {},
   "source": [
    "<h3>Exercise 10.2: Optimization</h3>\n",
    "<p><b> Find the maximum of the function </b></p>\n",
    "<p><b> f(x) = sin^2 (x − 2)e^(−x^2) </b></p>\n"
   ]
  },
  {
   "cell_type": "code",
   "execution_count": 6,
   "id": "d7858fef",
   "metadata": {},
   "outputs": [],
   "source": [
    "from scipy import optimize\n",
    "import math"
   ]
  },
  {
   "cell_type": "code",
   "execution_count": 7,
   "id": "8158b6a4",
   "metadata": {},
   "outputs": [],
   "source": [
    "def f(x):\n",
    "    return (np.sin(x - 2) ** 2) * ((math.e) ** (-(x ** 2)))"
   ]
  },
  {
   "cell_type": "code",
   "execution_count": 8,
   "id": "40b19234",
   "metadata": {},
   "outputs": [
    {
     "ename": "NameError",
     "evalue": "name 'scipy' is not defined",
     "output_type": "error",
     "traceback": [
      "\u001b[1;31m---------------------------------------------------------------------------\u001b[0m",
      "\u001b[1;31mNameError\u001b[0m                                 Traceback (most recent call last)",
      "\u001b[1;32m~\\AppData\\Local\\Temp/ipykernel_21004/3759012239.py\u001b[0m in \u001b[0;36m<module>\u001b[1;34m\u001b[0m\n\u001b[1;32m----> 1\u001b[1;33m \u001b[0mmax_value\u001b[0m \u001b[1;33m=\u001b[0m \u001b[0mscipy\u001b[0m\u001b[1;33m.\u001b[0m\u001b[0moptimize\u001b[0m\u001b[1;33m.\u001b[0m\u001b[0mfmin\u001b[0m\u001b[1;33m(\u001b[0m\u001b[1;32mlambda\u001b[0m \u001b[0mx\u001b[0m\u001b[1;33m:\u001b[0m \u001b[1;33m-\u001b[0m\u001b[0mf\u001b[0m\u001b[1;33m(\u001b[0m\u001b[0mx\u001b[0m\u001b[1;33m)\u001b[0m\u001b[1;33m,\u001b[0m \u001b[1;36m0\u001b[0m\u001b[1;33m)\u001b[0m\u001b[1;33m\u001b[0m\u001b[1;33m\u001b[0m\u001b[0m\n\u001b[0m\u001b[0;32m      2\u001b[0m \u001b[0mprint\u001b[0m\u001b[1;33m(\u001b[0m\u001b[0mmax_value\u001b[0m\u001b[1;33m)\u001b[0m \u001b[1;31m# x axis\u001b[0m\u001b[1;33m\u001b[0m\u001b[1;33m\u001b[0m\u001b[0m\n\u001b[0;32m      3\u001b[0m \u001b[0mprint\u001b[0m\u001b[1;33m(\u001b[0m\u001b[0mf\u001b[0m\u001b[1;33m(\u001b[0m\u001b[0mmax_value\u001b[0m\u001b[1;33m)\u001b[0m\u001b[1;33m)\u001b[0m \u001b[1;31m# y axis\u001b[0m\u001b[1;33m\u001b[0m\u001b[1;33m\u001b[0m\u001b[0m\n",
      "\u001b[1;31mNameError\u001b[0m: name 'scipy' is not defined"
     ]
    }
   ],
   "source": [
    "max_value = scipy.optimize.fmin(lambda x: -f(x), 0)\n",
    "print(max_value) # x axis\n",
    "print(f(max_value)) # y axis"
   ]
  },
  {
   "cell_type": "markdown",
   "id": "9227c6b4",
   "metadata": {},
   "source": [
    "<h3>Exercise 10.3: Pairwise distances</h3>\n",
    "<p><b> Let X be a matrix with n rows and m columns. How can you compute the pairwise distances between\n",
    "every two rows? </b></p>\n",
    "<p><b> As an example application, consider n cities, and we are given their coordinates in two columns. Now\n",
    "we want a nice table that tells us for each two cities, how far they are apart. </b></p>\n",
    "<p><b> Again, make sure you make use of Scipy’s functionality instead of writing your own routine </b></p>"
   ]
  },
  {
   "cell_type": "code",
   "execution_count": 9,
   "id": "98211fcb",
   "metadata": {},
   "outputs": [],
   "source": [
    "def pairwise_distances(n, m):\n",
    "    size = (n,m)\n",
    "    X = np.zeros(size)\n",
    "    for i in range(n):\n",
    "        for j in range(m):\n",
    "            X[i][j] = np.random.randint(100)\n",
    "    result = scipy.spatial.distance.pdist(X)\n",
    "    return result"
   ]
  },
  {
   "cell_type": "code",
   "execution_count": 10,
   "id": "1d2d0446",
   "metadata": {},
   "outputs": [
    {
     "ename": "NameError",
     "evalue": "name 'scipy' is not defined",
     "output_type": "error",
     "traceback": [
      "\u001b[1;31m---------------------------------------------------------------------------\u001b[0m",
      "\u001b[1;31mNameError\u001b[0m                                 Traceback (most recent call last)",
      "\u001b[1;32m~\\AppData\\Local\\Temp/ipykernel_21004/2501455622.py\u001b[0m in \u001b[0;36m<module>\u001b[1;34m\u001b[0m\n\u001b[1;32m----> 1\u001b[1;33m \u001b[0mpairwise_distances\u001b[0m\u001b[1;33m(\u001b[0m\u001b[1;36m10\u001b[0m\u001b[1;33m,\u001b[0m \u001b[1;36m5\u001b[0m\u001b[1;33m)\u001b[0m\u001b[1;33m\u001b[0m\u001b[1;33m\u001b[0m\u001b[0m\n\u001b[0m",
      "\u001b[1;32m~\\AppData\\Local\\Temp/ipykernel_21004/2492502716.py\u001b[0m in \u001b[0;36mpairwise_distances\u001b[1;34m(n, m)\u001b[0m\n\u001b[0;32m      5\u001b[0m         \u001b[1;32mfor\u001b[0m \u001b[0mj\u001b[0m \u001b[1;32min\u001b[0m \u001b[0mrange\u001b[0m\u001b[1;33m(\u001b[0m\u001b[0mm\u001b[0m\u001b[1;33m)\u001b[0m\u001b[1;33m:\u001b[0m\u001b[1;33m\u001b[0m\u001b[1;33m\u001b[0m\u001b[0m\n\u001b[0;32m      6\u001b[0m             \u001b[0mX\u001b[0m\u001b[1;33m[\u001b[0m\u001b[0mi\u001b[0m\u001b[1;33m]\u001b[0m\u001b[1;33m[\u001b[0m\u001b[0mj\u001b[0m\u001b[1;33m]\u001b[0m \u001b[1;33m=\u001b[0m \u001b[0mnp\u001b[0m\u001b[1;33m.\u001b[0m\u001b[0mrandom\u001b[0m\u001b[1;33m.\u001b[0m\u001b[0mrandint\u001b[0m\u001b[1;33m(\u001b[0m\u001b[1;36m100\u001b[0m\u001b[1;33m)\u001b[0m\u001b[1;33m\u001b[0m\u001b[1;33m\u001b[0m\u001b[0m\n\u001b[1;32m----> 7\u001b[1;33m     \u001b[0mresult\u001b[0m \u001b[1;33m=\u001b[0m \u001b[0mscipy\u001b[0m\u001b[1;33m.\u001b[0m\u001b[0mspatial\u001b[0m\u001b[1;33m.\u001b[0m\u001b[0mdistance\u001b[0m\u001b[1;33m.\u001b[0m\u001b[0mpdist\u001b[0m\u001b[1;33m(\u001b[0m\u001b[0mX\u001b[0m\u001b[1;33m)\u001b[0m\u001b[1;33m\u001b[0m\u001b[1;33m\u001b[0m\u001b[0m\n\u001b[0m\u001b[0;32m      8\u001b[0m     \u001b[1;32mreturn\u001b[0m \u001b[0mresult\u001b[0m\u001b[1;33m\u001b[0m\u001b[1;33m\u001b[0m\u001b[0m\n",
      "\u001b[1;31mNameError\u001b[0m: name 'scipy' is not defined"
     ]
    }
   ],
   "source": [
    "pairwise_distances(10, 5)"
   ]
  },
  {
   "cell_type": "markdown",
   "id": "1cda2a7a",
   "metadata": {},
   "source": [
    "<h3>Exercise 11.1: Plotting a function</h3>\n",
    "<p><b> Plot the function </b></p>\n",
    "<p><b> f(x) = sin^2(x − 2) e^(−x^2) </b></p>\n",
    "<p><b> over the interval [0; 2]. Add proper axis labels, a title, etc. </b></p>"
   ]
  },
  {
   "cell_type": "code",
   "execution_count": 16,
   "id": "f727ddd1",
   "metadata": {
    "scrolled": true
   },
   "outputs": [
    {
     "data": {
      "image/png": "[encoded data removed]",
      "text/plain": [
       "<Figure size 432x288 with 1 Axes>"
      ]
     },
     "metadata": {
      "needs_background": "light"
     },
     "output_type": "display_data"
    }
   ],
   "source": [
    "import matplotlib.pyplot as plt\n",
    "import numpy as np\n",
    "\n",
    "x = np.linspace(0,2)\n",
    "plt.plot(x, f(x))\n",
    "plt.show()"
   ]
  },
  {
   "cell_type": "markdown",
   "id": "45ef669b",
   "metadata": {},
   "source": [
    "<h3>Exercise 11.2: Data</h3>\n",
    "<p><b> Create a data matrix X with 20 observations of 10 variables. Generate a vector b with parameters Then\n",
    "generate the response vector y = Xb+z where z is a vector with standard normally distributed variables. </b></p>\n",
    "<p><b> Now (by only using y and X), find an estimator for b, by solving </b></p>\n",
    "<p><b> b = arg minb ||Xb − y||2 </b></p>\n",
    "<p><b> Plot the true parameters b and estimated parameters ^b. See Figure 1 for an example plot. </b></p>"
   ]
  },
  {
   "cell_type": "code",
   "execution_count": 98,
   "id": "a3fa4360",
   "metadata": {},
   "outputs": [],
   "source": [
    "size = (20, 10)\n",
    "X = np.zeros(size)\n",
    "for i in range(20):\n",
    "    for j in range(10):\n",
    "        X[i][j] = np.random.randint(100)\n",
    "        \n",
    "b = np.zeros(10)\n",
    "for i in range(len(b)):\n",
    "    b[i] = np.random.randint(100)\n",
    "    \n",
    "z = np.random.normal(3, 2.5, 20)\n",
    "\n",
    "y =  np.zeros(200)\n"
   ]
  },
  {
   "cell_type": "markdown",
   "id": "99bb740c",
   "metadata": {},
   "source": [
    "<h3>Exercise 11.3: Histogram and density estimation</h3>\n",
    "<p><b> Generate a vector z of 10000 observations from your favorite exotic distribution. Then make a plot that\n",
    "shows a histogram of z (with 25 bins), along with an estimate for the density, using a Gaussian kernel\n",
    "density estimator (see scipy.stats). See Figure 2 for an example plot. </b></p>"
   ]
  },
  {
   "cell_type": "code",
   "execution_count": 89,
   "id": "35aa435c",
   "metadata": {},
   "outputs": [],
   "source": [
    "import scipy.stats\n",
    "import numpy as np\n",
    "z = scipy.stats.norm.rvs(size=10000, loc=0, scale=1.5, random_state=123)\n",
    "hist = np.histogram(data, bins=100)\n",
    "hist_dist = scipy.stats.rv_histogram(hist)"
   ]
  },
  {
   "cell_type": "code",
   "execution_count": 93,
   "id": "bd2effb0",
   "metadata": {},
   "outputs": [
    {
     "data": {
      "image/png": "[encoded data removed]",
      "text/plain": [
       "<Figure size 432x288 with 1 Axes>"
      ]
     },
     "metadata": {
      "needs_background": "light"
     },
     "output_type": "display_data"
    }
   ],
   "source": [
    "import matplotlib.pyplot as plt\n",
    "X = np.linspace(-5.0, 5.0, 100)\n",
    "plt.title(\"PDF from Template\")\n",
    "plt.hist(z, density=True, bins=25)\n",
    "plt.plot(X, hist_dist.pdf(X), label='PDF')\n",
    "plt.show()"
   ]
  },
  {
   "cell_type": "code",
   "execution_count": null,
   "id": "f3b9a3ea",
   "metadata": {},
   "outputs": [],
   "source": []
  }
 ],
 "metadata": {
  "kernelspec": {
   "display_name": "Python 3 (ipykernel)",
   "language": "python",
   "name": "python3"
  },
  "language_info": {
   "codemirror_mode": {
    "name": "ipython",
    "version": 3
   },
   "file_extension": ".py",
   "mimetype": "text/x-python",
   "name": "python",
   "nbconvert_exporter": "python",
   "pygments_lexer": "ipython3",
   "version": "3.9.7"
  }
 },
 "nbformat": 4,
 "nbformat_minor": 5
}
