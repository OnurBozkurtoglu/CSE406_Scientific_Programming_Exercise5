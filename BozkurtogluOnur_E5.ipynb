{
 "cells": [
  {
   "cell_type": "markdown",
   "id": "e2c9265b",
   "metadata": {},
   "source": [
    "<h1> Exercise 5</h1>\n",
    "<p>Onur BOZKURTOĞLU</p>\n",
    "<p>20170808044</p>\n",
    "<h2>9    Numpy</h2>\n",
    "<h3>Exercise 9.5: Singular values</h3>\n",
    "<p><b> Generate an n × n matrix, denoted by C, where each entry is 1 with probability p and 0 otherwise. Use\n",
    "the linear algebra library of Scipy to compute the singular values of C. What can you say about the\n",
    "relationship between n, p and the largest singular value? </b></p>"
   ]
  },
  {
   "cell_type": "code",
   "execution_count": 75,
   "id": "55f626c7",
   "metadata": {},
   "outputs": [
    {
     "name": "stdout",
     "output_type": "stream",
     "text": [
      "[[1. 1. 0. ... 1. 1. 1.]\n",
      " [1. 1. 0. ... 1. 0. 0.]\n",
      " [0. 1. 1. ... 0. 0. 1.]\n",
      " ...\n",
      " [1. 1. 0. ... 0. 1. 1.]\n",
      " [0. 0. 1. ... 0. 0. 1.]\n",
      " [0. 0. 1. ... 0. 1. 1.]]\n"
     ]
    }
   ],
   "source": [
    "import numpy as np\n",
    "from random import choices\n",
    "\n",
    "size = (200,200)\n",
    "C = np.zeros(size)\n",
    "probability = 0.4\n",
    "\n",
    "for i in range(200):  \n",
    "    for j in range(200):\n",
    "        C[i][j] = np.random.choice(np.arange(2), p = [probability, 1 - probability])\n",
    "print(C)"
   ]
  },
  {
   "cell_type": "code",
   "execution_count": null,
   "id": "3808d6f4",
   "metadata": {},
   "outputs": [],
   "source": []
  }
 ],
 "metadata": {
  "kernelspec": {
   "display_name": "Python 3 (ipykernel)",
   "language": "python",
   "name": "python3"
  },
  "language_info": {
   "codemirror_mode": {
    "name": "ipython",
    "version": 3
   },
   "file_extension": ".py",
   "mimetype": "text/x-python",
   "name": "python",
   "nbconvert_exporter": "python",
   "pygments_lexer": "ipython3",
   "version": "3.9.7"
  }
 },
 "nbformat": 4,
 "nbformat_minor": 5
}
